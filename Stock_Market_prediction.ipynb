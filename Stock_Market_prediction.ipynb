{
  "nbformat": 4,
  "nbformat_minor": 0,
  "metadata": {
    "colab": {
      "provenance": []
    },
    "kernelspec": {
      "name": "python3",
      "display_name": "Python 3"
    },
    "language_info": {
      "name": "python"
    }
  },
  "cells": [
    {
      "cell_type": "markdown",
      "source": [
        "**STOCK** **MARKET** **PREDICTION**"
      ],
      "metadata": {
        "id": "j70HqhdHilTu"
      }
    },
    {
      "cell_type": "code",
      "source": [
        "from IPython.display import Image\n",
        "Image (url='https://miro.medium.com/v2/resize:fit:1000/0*dtiuqS8kNB66Mp5P',width =800)"
      ],
      "metadata": {
        "colab": {
          "base_uri": "https://localhost:8080/",
          "height": 341
        },
        "id": "FGHXp9nvitl5",
        "outputId": "051757b8-9312-4c9d-ab35-17c895c6f72e"
      },
      "execution_count": 1,
      "outputs": [
        {
          "output_type": "execute_result",
          "data": {
            "text/html": [
              "<img src=\"https://miro.medium.com/v2/resize:fit:1000/0*dtiuqS8kNB66Mp5P\" width=\"800\"/>"
            ],
            "text/plain": [
              "<IPython.core.display.Image object>"
            ]
          },
          "metadata": {},
          "execution_count": 1
        }
      ]
    },
    {
      "cell_type": "code",
      "execution_count": null,
      "metadata": {
        "id": "PMPpnns2sJz7"
      },
      "outputs": [],
      "source": [
        "import numpy as np\n",
        "import pandas as pd\n",
        "import matplotlib.pyplot as plt\n",
        "from sklearn.preprocessing import MinMaxScaler\n",
        "from keras.models import Sequential\n",
        "from keras.layers import Dense,LSTM,Dropout"
      ]
    },
    {
      "cell_type": "code",
      "source": [
        "data = pd.read_csv('/content/Google_train_data.csv')\n",
        "data.head()"
      ],
      "metadata": {
        "colab": {
          "base_uri": "https://localhost:8080/",
          "height": 206
        },
        "id": "44L61AT9t7o3",
        "outputId": "355b8e2c-a495-4334-880f-916b2808d21f"
      },
      "execution_count": null,
      "outputs": [
        {
          "output_type": "execute_result",
          "data": {
            "text/plain": [
              "       Date    Open    High     Low   Close      Volume\n",
              "0  1/3/2012  325.25  332.83  324.97  663.59   7,380,500\n",
              "1  1/4/2012  331.27  333.87  329.08  666.45   5,749,400\n",
              "2  1/5/2012  329.83  330.75  326.89  657.21   6,590,300\n",
              "3  1/6/2012  328.34  328.77  323.68  648.24   5,405,900\n",
              "4  1/9/2012  322.04  322.29  309.46  620.76  11,688,800"
            ],
            "text/html": [
              "\n",
              "  <div id=\"df-6b1c5d02-39cf-475d-8d5f-9c23c129b751\">\n",
              "    <div class=\"colab-df-container\">\n",
              "      <div>\n",
              "<style scoped>\n",
              "    .dataframe tbody tr th:only-of-type {\n",
              "        vertical-align: middle;\n",
              "    }\n",
              "\n",
              "    .dataframe tbody tr th {\n",
              "        vertical-align: top;\n",
              "    }\n",
              "\n",
              "    .dataframe thead th {\n",
              "        text-align: right;\n",
              "    }\n",
              "</style>\n",
              "<table border=\"1\" class=\"dataframe\">\n",
              "  <thead>\n",
              "    <tr style=\"text-align: right;\">\n",
              "      <th></th>\n",
              "      <th>Date</th>\n",
              "      <th>Open</th>\n",
              "      <th>High</th>\n",
              "      <th>Low</th>\n",
              "      <th>Close</th>\n",
              "      <th>Volume</th>\n",
              "    </tr>\n",
              "  </thead>\n",
              "  <tbody>\n",
              "    <tr>\n",
              "      <th>0</th>\n",
              "      <td>1/3/2012</td>\n",
              "      <td>325.25</td>\n",
              "      <td>332.83</td>\n",
              "      <td>324.97</td>\n",
              "      <td>663.59</td>\n",
              "      <td>7,380,500</td>\n",
              "    </tr>\n",
              "    <tr>\n",
              "      <th>1</th>\n",
              "      <td>1/4/2012</td>\n",
              "      <td>331.27</td>\n",
              "      <td>333.87</td>\n",
              "      <td>329.08</td>\n",
              "      <td>666.45</td>\n",
              "      <td>5,749,400</td>\n",
              "    </tr>\n",
              "    <tr>\n",
              "      <th>2</th>\n",
              "      <td>1/5/2012</td>\n",
              "      <td>329.83</td>\n",
              "      <td>330.75</td>\n",
              "      <td>326.89</td>\n",
              "      <td>657.21</td>\n",
              "      <td>6,590,300</td>\n",
              "    </tr>\n",
              "    <tr>\n",
              "      <th>3</th>\n",
              "      <td>1/6/2012</td>\n",
              "      <td>328.34</td>\n",
              "      <td>328.77</td>\n",
              "      <td>323.68</td>\n",
              "      <td>648.24</td>\n",
              "      <td>5,405,900</td>\n",
              "    </tr>\n",
              "    <tr>\n",
              "      <th>4</th>\n",
              "      <td>1/9/2012</td>\n",
              "      <td>322.04</td>\n",
              "      <td>322.29</td>\n",
              "      <td>309.46</td>\n",
              "      <td>620.76</td>\n",
              "      <td>11,688,800</td>\n",
              "    </tr>\n",
              "  </tbody>\n",
              "</table>\n",
              "</div>\n",
              "      <button class=\"colab-df-convert\" onclick=\"convertToInteractive('df-6b1c5d02-39cf-475d-8d5f-9c23c129b751')\"\n",
              "              title=\"Convert this dataframe to an interactive table.\"\n",
              "              style=\"display:none;\">\n",
              "        \n",
              "  <svg xmlns=\"http://www.w3.org/2000/svg\" height=\"24px\"viewBox=\"0 0 24 24\"\n",
              "       width=\"24px\">\n",
              "    <path d=\"M0 0h24v24H0V0z\" fill=\"none\"/>\n",
              "    <path d=\"M18.56 5.44l.94 2.06.94-2.06 2.06-.94-2.06-.94-.94-2.06-.94 2.06-2.06.94zm-11 1L8.5 8.5l.94-2.06 2.06-.94-2.06-.94L8.5 2.5l-.94 2.06-2.06.94zm10 10l.94 2.06.94-2.06 2.06-.94-2.06-.94-.94-2.06-.94 2.06-2.06.94z\"/><path d=\"M17.41 7.96l-1.37-1.37c-.4-.4-.92-.59-1.43-.59-.52 0-1.04.2-1.43.59L10.3 9.45l-7.72 7.72c-.78.78-.78 2.05 0 2.83L4 21.41c.39.39.9.59 1.41.59.51 0 1.02-.2 1.41-.59l7.78-7.78 2.81-2.81c.8-.78.8-2.07 0-2.86zM5.41 20L4 18.59l7.72-7.72 1.47 1.35L5.41 20z\"/>\n",
              "  </svg>\n",
              "      </button>\n",
              "      \n",
              "  <style>\n",
              "    .colab-df-container {\n",
              "      display:flex;\n",
              "      flex-wrap:wrap;\n",
              "      gap: 12px;\n",
              "    }\n",
              "\n",
              "    .colab-df-convert {\n",
              "      background-color: #E8F0FE;\n",
              "      border: none;\n",
              "      border-radius: 50%;\n",
              "      cursor: pointer;\n",
              "      display: none;\n",
              "      fill: #1967D2;\n",
              "      height: 32px;\n",
              "      padding: 0 0 0 0;\n",
              "      width: 32px;\n",
              "    }\n",
              "\n",
              "    .colab-df-convert:hover {\n",
              "      background-color: #E2EBFA;\n",
              "      box-shadow: 0px 1px 2px rgba(60, 64, 67, 0.3), 0px 1px 3px 1px rgba(60, 64, 67, 0.15);\n",
              "      fill: #174EA6;\n",
              "    }\n",
              "\n",
              "    [theme=dark] .colab-df-convert {\n",
              "      background-color: #3B4455;\n",
              "      fill: #D2E3FC;\n",
              "    }\n",
              "\n",
              "    [theme=dark] .colab-df-convert:hover {\n",
              "      background-color: #434B5C;\n",
              "      box-shadow: 0px 1px 3px 1px rgba(0, 0, 0, 0.15);\n",
              "      filter: drop-shadow(0px 1px 2px rgba(0, 0, 0, 0.3));\n",
              "      fill: #FFFFFF;\n",
              "    }\n",
              "  </style>\n",
              "\n",
              "      <script>\n",
              "        const buttonEl =\n",
              "          document.querySelector('#df-6b1c5d02-39cf-475d-8d5f-9c23c129b751 button.colab-df-convert');\n",
              "        buttonEl.style.display =\n",
              "          google.colab.kernel.accessAllowed ? 'block' : 'none';\n",
              "\n",
              "        async function convertToInteractive(key) {\n",
              "          const element = document.querySelector('#df-6b1c5d02-39cf-475d-8d5f-9c23c129b751');\n",
              "          const dataTable =\n",
              "            await google.colab.kernel.invokeFunction('convertToInteractive',\n",
              "                                                     [key], {});\n",
              "          if (!dataTable) return;\n",
              "\n",
              "          const docLinkHtml = 'Like what you see? Visit the ' +\n",
              "            '<a target=\"_blank\" href=https://colab.research.google.com/notebooks/data_table.ipynb>data table notebook</a>'\n",
              "            + ' to learn more about interactive tables.';\n",
              "          element.innerHTML = '';\n",
              "          dataTable['output_type'] = 'display_data';\n",
              "          await google.colab.output.renderOutput(dataTable, element);\n",
              "          const docLink = document.createElement('div');\n",
              "          docLink.innerHTML = docLinkHtml;\n",
              "          element.appendChild(docLink);\n",
              "        }\n",
              "      </script>\n",
              "    </div>\n",
              "  </div>\n",
              "  "
            ]
          },
          "metadata": {},
          "execution_count": 2
        }
      ]
    },
    {
      "cell_type": "code",
      "source": [
        "data.info()"
      ],
      "metadata": {
        "colab": {
          "base_uri": "https://localhost:8080/"
        },
        "id": "y5R9K0-RuE3I",
        "outputId": "b97eb81d-25d2-449d-83c9-90b508a1aea2"
      },
      "execution_count": null,
      "outputs": [
        {
          "output_type": "stream",
          "name": "stdout",
          "text": [
            "<class 'pandas.core.frame.DataFrame'>\n",
            "RangeIndex: 1258 entries, 0 to 1257\n",
            "Data columns (total 6 columns):\n",
            " #   Column  Non-Null Count  Dtype  \n",
            "---  ------  --------------  -----  \n",
            " 0   Date    1258 non-null   object \n",
            " 1   Open    1258 non-null   float64\n",
            " 2   High    1258 non-null   float64\n",
            " 3   Low     1258 non-null   float64\n",
            " 4   Close   1258 non-null   object \n",
            " 5   Volume  1258 non-null   object \n",
            "dtypes: float64(3), object(3)\n",
            "memory usage: 59.1+ KB\n"
          ]
        }
      ]
    },
    {
      "cell_type": "code",
      "source": [
        "data[\"Close\"]=pd.to_numeric(data.Close,errors='coerce')\n",
        "data = data.dropna()\n",
        "trainData = data.iloc[:,4:5].values"
      ],
      "metadata": {
        "id": "AtBJl6e8uKCp"
      },
      "execution_count": null,
      "outputs": []
    },
    {
      "cell_type": "code",
      "source": [
        "data.info()"
      ],
      "metadata": {
        "colab": {
          "base_uri": "https://localhost:8080/"
        },
        "id": "9cQk2KVbuM0w",
        "outputId": "45fe1ce3-1513-4cdf-ce96-58de299442f3"
      },
      "execution_count": null,
      "outputs": [
        {
          "output_type": "stream",
          "name": "stdout",
          "text": [
            "<class 'pandas.core.frame.DataFrame'>\n",
            "Int64Index: 1149 entries, 0 to 1257\n",
            "Data columns (total 6 columns):\n",
            " #   Column  Non-Null Count  Dtype  \n",
            "---  ------  --------------  -----  \n",
            " 0   Date    1149 non-null   object \n",
            " 1   Open    1149 non-null   float64\n",
            " 2   High    1149 non-null   float64\n",
            " 3   Low     1149 non-null   float64\n",
            " 4   Close   1149 non-null   float64\n",
            " 5   Volume  1149 non-null   object \n",
            "dtypes: float64(4), object(2)\n",
            "memory usage: 62.8+ KB\n"
          ]
        }
      ]
    },
    {
      "cell_type": "code",
      "source": [
        "sc = MinMaxScaler(feature_range=(0,1))\n",
        "trainData = sc.fit_transform(trainData)\n",
        "trainData.shape"
      ],
      "metadata": {
        "colab": {
          "base_uri": "https://localhost:8080/"
        },
        "id": "6WYerdv3uQms",
        "outputId": "6a854337-ce3e-4039-9330-7b6c6d1e1d8f"
      },
      "execution_count": null,
      "outputs": [
        {
          "output_type": "execute_result",
          "data": {
            "text/plain": [
              "(1149, 1)"
            ]
          },
          "metadata": {},
          "execution_count": 6
        }
      ]
    },
    {
      "cell_type": "code",
      "source": [
        "X_train = []\n",
        "y_train = []\n",
        "\n",
        "for i in range (60,1149): #60 : timestep // 1149 : length of the data\n",
        "    X_train.append(trainData[i-60:i,0])\n",
        "    y_train.append(trainData[i,0])\n",
        "\n",
        "X_train,y_train = np.array(X_train),np.array(y_train)"
      ],
      "metadata": {
        "id": "QEaTpum_uUuT"
      },
      "execution_count": null,
      "outputs": []
    },
    {
      "cell_type": "code",
      "source": [
        "X_train = np.reshape(X_train,(X_train.shape[0],X_train.shape[1],1)) #adding the batch_size axis\n",
        "X_train.shape"
      ],
      "metadata": {
        "colab": {
          "base_uri": "https://localhost:8080/"
        },
        "id": "f7F_DgMcuYPj",
        "outputId": "af8eadeb-468e-4eb8-d17b-ad05401e5850"
      },
      "execution_count": null,
      "outputs": [
        {
          "output_type": "execute_result",
          "data": {
            "text/plain": [
              "(1089, 60, 1)"
            ]
          },
          "metadata": {},
          "execution_count": 8
        }
      ]
    },
    {
      "cell_type": "code",
      "source": [
        "model = Sequential()\n",
        "\n",
        "model.add(LSTM(units=100, return_sequences = True, input_shape =(X_train.shape[1],1)))\n",
        "model.add(Dropout(0.2))\n",
        "\n",
        "model.add(LSTM(units=100, return_sequences = True))\n",
        "model.add(Dropout(0.2))\n",
        "\n",
        "model.add(LSTM(units=100, return_sequences = True))\n",
        "model.add(Dropout(0.2))\n",
        "\n",
        "model.add(LSTM(units=100, return_sequences = False))\n",
        "model.add(Dropout(0.2))\n",
        "\n",
        "model.add(Dense(units =1))\n",
        "model.compile(optimizer='adam',loss=\"mean_squared_error\")"
      ],
      "metadata": {
        "id": "MOkhB0eYubzs"
      },
      "execution_count": null,
      "outputs": []
    },
    {
      "cell_type": "code",
      "source": [
        "hist = model.fit(X_train, y_train, epochs = 30, batch_size = 32, verbose=2)"
      ],
      "metadata": {
        "colab": {
          "base_uri": "https://localhost:8080/"
        },
        "id": "H537OWkxuhQp",
        "outputId": "ac36e013-154c-424f-9b8b-f8b62fc745f6"
      },
      "execution_count": null,
      "outputs": [
        {
          "output_type": "stream",
          "name": "stdout",
          "text": [
            "Epoch 1/30\n",
            "35/35 - 17s - loss: 0.0341 - 17s/epoch - 491ms/step\n",
            "Epoch 2/30\n",
            "35/35 - 7s - loss: 0.0118 - 7s/epoch - 210ms/step\n",
            "Epoch 3/30\n",
            "35/35 - 8s - loss: 0.0097 - 8s/epoch - 232ms/step\n",
            "Epoch 4/30\n",
            "35/35 - 7s - loss: 0.0085 - 7s/epoch - 195ms/step\n",
            "Epoch 5/30\n",
            "35/35 - 8s - loss: 0.0077 - 8s/epoch - 227ms/step\n",
            "Epoch 6/30\n",
            "35/35 - 7s - loss: 0.0093 - 7s/epoch - 208ms/step\n",
            "Epoch 7/30\n",
            "35/35 - 7s - loss: 0.0074 - 7s/epoch - 212ms/step\n",
            "Epoch 8/30\n",
            "35/35 - 8s - loss: 0.0066 - 8s/epoch - 226ms/step\n",
            "Epoch 9/30\n",
            "35/35 - 8s - loss: 0.0064 - 8s/epoch - 216ms/step\n",
            "Epoch 10/30\n",
            "35/35 - 8s - loss: 0.0062 - 8s/epoch - 233ms/step\n",
            "Epoch 11/30\n",
            "35/35 - 7s - loss: 0.0060 - 7s/epoch - 212ms/step\n",
            "Epoch 12/30\n",
            "35/35 - 7s - loss: 0.0060 - 7s/epoch - 208ms/step\n",
            "Epoch 13/30\n",
            "35/35 - 8s - loss: 0.0057 - 8s/epoch - 227ms/step\n",
            "Epoch 14/30\n",
            "35/35 - 7s - loss: 0.0059 - 7s/epoch - 190ms/step\n",
            "Epoch 15/30\n",
            "35/35 - 8s - loss: 0.0053 - 8s/epoch - 225ms/step\n",
            "Epoch 16/30\n",
            "35/35 - 7s - loss: 0.0056 - 7s/epoch - 193ms/step\n",
            "Epoch 17/30\n",
            "35/35 - 9s - loss: 0.0054 - 9s/epoch - 261ms/step\n",
            "Epoch 18/30\n",
            "35/35 - 8s - loss: 0.0058 - 8s/epoch - 226ms/step\n",
            "Epoch 19/30\n",
            "35/35 - 7s - loss: 0.0059 - 7s/epoch - 193ms/step\n",
            "Epoch 20/30\n",
            "35/35 - 8s - loss: 0.0052 - 8s/epoch - 226ms/step\n",
            "Epoch 21/30\n",
            "35/35 - 7s - loss: 0.0050 - 7s/epoch - 195ms/step\n",
            "Epoch 22/30\n",
            "35/35 - 8s - loss: 0.0050 - 8s/epoch - 230ms/step\n",
            "Epoch 23/30\n",
            "35/35 - 8s - loss: 0.0046 - 8s/epoch - 227ms/step\n",
            "Epoch 24/30\n",
            "35/35 - 7s - loss: 0.0046 - 7s/epoch - 189ms/step\n",
            "Epoch 25/30\n",
            "35/35 - 8s - loss: 0.0052 - 8s/epoch - 222ms/step\n",
            "Epoch 26/30\n",
            "35/35 - 7s - loss: 0.0042 - 7s/epoch - 190ms/step\n",
            "Epoch 27/30\n",
            "35/35 - 8s - loss: 0.0042 - 8s/epoch - 224ms/step\n",
            "Epoch 28/30\n",
            "35/35 - 7s - loss: 0.0036 - 7s/epoch - 198ms/step\n",
            "Epoch 29/30\n",
            "35/35 - 8s - loss: 0.0041 - 8s/epoch - 216ms/step\n",
            "Epoch 30/30\n",
            "35/35 - 8s - loss: 0.0054 - 8s/epoch - 223ms/step\n"
          ]
        }
      ]
    },
    {
      "cell_type": "code",
      "source": [
        "plt.plot(hist.history['loss'])\n",
        "plt.title('Training model loss')\n",
        "plt.ylabel('loss')\n",
        "plt.xlabel('epoch')\n",
        "plt.legend(['train'], loc='upper left')\n",
        "plt.show()"
      ],
      "metadata": {
        "colab": {
          "base_uri": "https://localhost:8080/",
          "height": 472
        },
        "id": "xzS0cqeVvhcE",
        "outputId": "7bc2a2ef-4c7c-4716-9f8a-e30755b2879b"
      },
      "execution_count": null,
      "outputs": [
        {
          "output_type": "display_data",
          "data": {
            "text/plain": [
              "<Figure size 640x480 with 1 Axes>"
            ],
            "image/png": "[encoded data removed]"
          },
          "metadata": {}
        }
      ]
    },
    {
      "cell_type": "code",
      "source": [
        "testData = pd.read_csv('/content/Google_test_data.csv')\n",
        "testData[\"Close\"]=pd.to_numeric(testData.Close,errors='coerce')\n",
        "testData = testData.dropna()\n",
        "testData = testData.iloc[:,4:5]\n",
        "y_test = testData.iloc[60:,0:].values\n",
        "#input array for the model\n",
        "inputClosing = testData.iloc[:,0:].values\n",
        "inputClosing_scaled = sc.transform(inputClosing)\n",
        "inputClosing_scaled.shape\n",
        "X_test = []\n",
        "length = len(testData)\n",
        "timestep = 60\n",
        "for i in range(timestep,length):\n",
        "    X_test.append(inputClosing_scaled[i-timestep:i,0])\n",
        "X_test = np.array(X_test)\n",
        "X_test = np.reshape(X_test,(X_test.shape[0],X_test.shape[1],1))\n",
        "X_test.shape"
      ],
      "metadata": {
        "colab": {
          "base_uri": "https://localhost:8080/"
        },
        "id": "qDU14p24voNI",
        "outputId": "41e1a28d-6738-4683-d1fd-e4b50d6d7493"
      },
      "execution_count": null,
      "outputs": [
        {
          "output_type": "execute_result",
          "data": {
            "text/plain": [
              "(192, 60, 1)"
            ]
          },
          "metadata": {},
          "execution_count": 12
        }
      ]
    },
    {
      "cell_type": "code",
      "source": [
        "y_pred = model.predict(X_test)\n",
        "y_pred"
      ],
      "metadata": {
        "colab": {
          "base_uri": "https://localhost:8080/"
        },
        "id": "V-cN7-tMvu28",
        "outputId": "84c3d7b4-7d9e-4f64-b046-ffb0bbc8707c"
      },
      "execution_count": null,
      "outputs": [
        {
          "output_type": "stream",
          "name": "stdout",
          "text": [
            "6/6 [==============================] - 3s 87ms/step\n"
          ]
        },
        {
          "output_type": "execute_result",
          "data": {
            "text/plain": [
              "array([[1.1753707],\n",
              "       [1.1733402],\n",
              "       [1.1863661],\n",
              "       [1.2046162],\n",
              "       [1.2131127],\n",
              "       [1.2006061],\n",
              "       [1.1760782],\n",
              "       [1.1547501],\n",
              "       [1.150465 ],\n",
              "       [1.1580507],\n",
              "       [1.153718 ],\n",
              "       [1.1410285],\n",
              "       [1.1319867],\n",
              "       [1.1244005],\n",
              "       [1.1277918],\n",
              "       [1.1373352],\n",
              "       [1.162969 ],\n",
              "       [1.1955879],\n",
              "       [1.2254837],\n",
              "       [1.2500563],\n",
              "       [1.2439023],\n",
              "       [1.2240998],\n",
              "       [1.1917261],\n",
              "       [1.1602411],\n",
              "       [1.1428775],\n",
              "       [1.1441147],\n",
              "       [1.1558615],\n",
              "       [1.1620591],\n",
              "       [1.1512452],\n",
              "       [1.1359127],\n",
              "       [1.1219872],\n",
              "       [1.1077923],\n",
              "       [1.0848864],\n",
              "       [1.0586228],\n",
              "       [1.0595552],\n",
              "       [1.0849967],\n",
              "       [1.1162817],\n",
              "       [1.1398971],\n",
              "       [1.1555927],\n",
              "       [1.152789 ],\n",
              "       [1.1579756],\n",
              "       [1.1713986],\n",
              "       [1.1890401],\n",
              "       [1.2035047],\n",
              "       [1.209756 ],\n",
              "       [1.2039334],\n",
              "       [1.1869675],\n",
              "       [1.1799678],\n",
              "       [1.1855997],\n",
              "       [1.2007663],\n",
              "       [1.2205459],\n",
              "       [1.2268538],\n",
              "       [1.2228905],\n",
              "       [1.2143482],\n",
              "       [1.2128371],\n",
              "       [1.2094178],\n",
              "       [1.2000061],\n",
              "       [1.199692 ],\n",
              "       [1.2182779],\n",
              "       [1.2429636],\n",
              "       [1.2715935],\n",
              "       [1.3009614],\n",
              "       [1.310836 ],\n",
              "       [1.2972845],\n",
              "       [1.2720596],\n",
              "       [1.2480823],\n",
              "       [1.2427399],\n",
              "       [1.251191 ],\n",
              "       [1.2648296],\n",
              "       [1.2735457],\n",
              "       [1.2780846],\n",
              "       [1.2778064],\n",
              "       [1.2680694],\n",
              "       [1.260019 ],\n",
              "       [1.2563134],\n",
              "       [1.2584736],\n",
              "       [1.2639446],\n",
              "       [1.2711064],\n",
              "       [1.2859019],\n",
              "       [1.3053449],\n",
              "       [1.3279529],\n",
              "       [1.3447928],\n",
              "       [1.3466856],\n",
              "       [1.3380791],\n",
              "       [1.3405777],\n",
              "       [1.3589267],\n",
              "       [1.38149  ],\n",
              "       [1.395083 ],\n",
              "       [1.3979534],\n",
              "       [1.3941356],\n",
              "       [1.3945478],\n",
              "       [1.4093055],\n",
              "       [1.432186 ],\n",
              "       [1.4405552],\n",
              "       [1.430353 ],\n",
              "       [1.4091228],\n",
              "       [1.3835876],\n",
              "       [1.3611755],\n",
              "       [1.3492017],\n",
              "       [1.3560709],\n",
              "       [1.375285 ],\n",
              "       [1.3977374],\n",
              "       [1.4190526],\n",
              "       [1.4304507],\n",
              "       [1.43105  ],\n",
              "       [1.4227812],\n",
              "       [1.4142736],\n",
              "       [1.4098314],\n",
              "       [1.4147989],\n",
              "       [1.4253386],\n",
              "       [1.4380144],\n",
              "       [1.4520595],\n",
              "       [1.4629614],\n",
              "       [1.4742022],\n",
              "       [1.4899397],\n",
              "       [1.499987 ],\n",
              "       [1.5060912],\n",
              "       [1.5124522],\n",
              "       [1.5243866],\n",
              "       [1.4900169],\n",
              "       [1.426475 ],\n",
              "       [1.3653519],\n",
              "       [1.3356428],\n",
              "       [1.3358033],\n",
              "       [1.3452221],\n",
              "       [1.3515085],\n",
              "       [1.3521687],\n",
              "       [1.3510586],\n",
              "       [1.3365737],\n",
              "       [1.3120979],\n",
              "       [1.3074758],\n",
              "       [1.325702 ],\n",
              "       [1.3449937],\n",
              "       [1.3465556],\n",
              "       [1.3402447],\n",
              "       [1.3339136],\n",
              "       [1.3257092],\n",
              "       [1.3148807],\n",
              "       [1.3053548],\n",
              "       [1.2920806],\n",
              "       [1.2797928],\n",
              "       [1.2659963],\n",
              "       [1.2267845],\n",
              "       [1.1857431],\n",
              "       [1.1531439],\n",
              "       [1.1351153],\n",
              "       [1.1387954],\n",
              "       [1.1613212],\n",
              "       [1.1888946],\n",
              "       [1.2102765],\n",
              "       [1.2262901],\n",
              "       [1.2348938],\n",
              "       [1.2397141],\n",
              "       [1.2461424],\n",
              "       [1.2521392],\n",
              "       [1.2593471],\n",
              "       [1.2698072],\n",
              "       [1.2772279],\n",
              "       [1.2680892],\n",
              "       [1.246895 ],\n",
              "       [1.223274 ],\n",
              "       [1.2071853],\n",
              "       [1.2072738],\n",
              "       [1.2232149],\n",
              "       [1.2485353],\n",
              "       [1.2763034],\n",
              "       [1.2918624],\n",
              "       [1.298056 ],\n",
              "       [1.3046955],\n",
              "       [1.3130062],\n",
              "       [1.3202728],\n",
              "       [1.3266581],\n",
              "       [1.3321718],\n",
              "       [1.3326398],\n",
              "       [1.3294072],\n",
              "       [1.318281 ],\n",
              "       [1.3081794],\n",
              "       [1.3059019],\n",
              "       [1.3059329],\n",
              "       [1.3038902],\n",
              "       [1.3499038],\n",
              "       [1.414748 ],\n",
              "       [1.4613352],\n",
              "       [1.4767382],\n",
              "       [1.4669554],\n",
              "       [1.4406103],\n",
              "       [1.3945065],\n",
              "       [1.3569076],\n",
              "       [1.3386524],\n",
              "       [1.3499761],\n",
              "       [1.3685842],\n",
              "       [1.3775114]], dtype=float32)"
            ]
          },
          "metadata": {},
          "execution_count": 13
        }
      ]
    },
    {
      "cell_type": "code",
      "source": [
        "predicted_price = sc.inverse_transform(y_pred)"
      ],
      "metadata": {
        "id": "LWT-wO6mv0ek"
      },
      "execution_count": null,
      "outputs": []
    },
    {
      "cell_type": "code",
      "source": [
        "plt.plot(y_test, color = 'red', label = 'Actual Stock Price')\n",
        "plt.plot(predicted_price, color = 'green', label = 'Predicted Stock Price')\n",
        "plt.title('Google stock price prediction')\n",
        "plt.xlabel('Time')\n",
        "plt.ylabel('Stock Price')\n",
        "plt.legend()\n",
        "plt.show()"
      ],
      "metadata": {
        "colab": {
          "base_uri": "https://localhost:8080/",
          "height": 472
        },
        "id": "Ich8fCyTv4fU",
        "outputId": "fe49a97a-b4ac-40a6-c25d-9db47d38ec26"
      },
      "execution_count": null,
      "outputs": [
        {
          "output_type": "display_data",
          "data": {
            "text/plain": [
              "<Figure size 640x480 with 1 Axes>"
            ],
            "image/png": "[encoded data removed]"
          },
          "metadata": {}
        }
      ]
    }
  ]
}